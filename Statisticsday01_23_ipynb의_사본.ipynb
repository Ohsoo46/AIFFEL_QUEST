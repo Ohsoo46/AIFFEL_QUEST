{
  "nbformat": 4,
  "nbformat_minor": 0,
  "metadata": {
    "colab": {
      "provenance": [],
      "include_colab_link": true
    },
    "kernelspec": {
      "name": "python3",
      "display_name": "Python 3"
    },
    "language_info": {
      "name": "python"
    }
  },
  "cells": [
    {
      "cell_type": "markdown",
      "metadata": {
        "id": "view-in-github",
        "colab_type": "text"
      },
      "source": [
        "<a href=\"https://colab.research.google.com/github/Ohsoo46/AIFFEL_QUEST/blob/main/Statisticsday01_23_ipynb%EC%9D%98_%EC%82%AC%EB%B3%B8.ipynb\" target=\"_parent\"><img src=\"https://colab.research.google.com/assets/colab-badge.svg\" alt=\"Open In Colab\"/></a>"
      ]
    },
    {
      "cell_type": "code",
      "source": [
        "import numpy as np\n",
        "import pandas as pd\n",
        "import matplotlib.pyplot as plt\n",
        "import seaborn as sns\n",
        "from scipy import stats\n",
        "from scipy.stats import norm"
      ],
      "metadata": {
        "id": "nRYqtHSKOwUK"
      },
      "execution_count": null,
      "outputs": []
    },
    {
      "cell_type": "markdown",
      "source": [
        "### 일표본 t검정\n",
        "\n",
        "어떤 과자 공장에서 생산하는 A 과자의 중량은 평균 150g으로 알려져 있습니다. 품질 관리팀에서 최근 생산된 과자 30개를 무작위로 뽑아 무게를 측정했습니다. 과연 이 샘플의 평균 무게는 기존에 알려진 모평균 150g과 통계적으로 같다고 할 수 있을까요?"
      ],
      "metadata": {
        "id": "lCao4ZaGM6jd"
      }
    },
    {
      "cell_type": "code",
      "execution_count": null,
      "metadata": {
        "id": "AVfkvbptGiSO"
      },
      "outputs": [],
      "source": [
        "# 모평균 설정\n",
        "population_mean = 150\n",
        "\n",
        "# 30개 과자 샘플의 무게 데이터\n",
        "sample_data = [149.21, 151.59, 154.61, 149.04, 156.86,\n",
        "               153.50, 155.22, 156.96, 148.39, 148.92,\n",
        "               146.41, 155.81, 148.94, 150.27, 152.18,\n",
        "               154.33, 155.64, 152.15, 150.54, 161.65,\n",
        "               150.28, 141.55, 146.31, 153.71, 161.13,\n",
        "               159.25, 145.71, 150.13, 151.87, 144.00]"
      ]
    },
    {
      "cell_type": "code",
      "source": [
        "sample_mean = np.mean(sample_data)\n",
        "sample_std = np.std(sample_data, ddof=1)\n",
        "n = len(sample_data)\n",
        "df = n - 1\n",
        "\n",
        "print(f\"가설 모평균 (μ₀): {population_mean}g\")\n",
        "print(f'측정된 과자 샘플의 평균 무게: {sample_mean:.2f}g')"
      ],
      "metadata": {
        "colab": {
          "base_uri": "https://localhost:8080/"
        },
        "id": "46M0iSCAQPaX",
        "outputId": "57898fc7-72ac-4aa0-d0bf-b398557d3586"
      },
      "execution_count": null,
      "outputs": [
        {
          "output_type": "stream",
          "name": "stdout",
          "text": [
            "가설 모평균 (μ₀): 150g\n",
            "측정된 과자 샘플의 평균 무게: 151.87g\n"
          ]
        }
      ]
    },
    {
      "cell_type": "code",
      "source": [
        "# 표준 오차 (Standard Error of the Mean, s / √n)\n",
        "standard_error = sample_std / np.sqrt(n)\n",
        "# t-통계량 공식 적용\n",
        "t_statistic_manual = (sample_mean - population_mean) / standard_error\n",
        "\n",
        "print(f\"표준 오차 (SEM): {standard_error:.4f}\")\n",
        "print(f\"t-통계량 (직접 계산): {t_statistic_manual:.4f}\")"
      ],
      "metadata": {
        "colab": {
          "base_uri": "https://localhost:8080/"
        },
        "id": "12ElZx5dQYqK",
        "outputId": "5ea7f0ea-e1da-482b-c577-cd703e20083a"
      },
      "execution_count": null,
      "outputs": [
        {
          "output_type": "stream",
          "name": "stdout",
          "text": [
            "표준 오차 (SEM): 0.8769\n",
            "t-통계량 (직접 계산): 2.1348\n"
          ]
        }
      ]
    },
    {
      "cell_type": "code",
      "source": [
        "# t-분포 그래프를 위한 데이터 생성\n",
        "# -4에서 4까지의 범위를 400개로 나눔\n",
        "x = np.linspace(-4, 4, 400)\n",
        "# 해당 x값에 대한 t-분포의 확률 밀도 함수(PDF) 값 계산\n",
        "y = stats.t.pdf(x, df)\n",
        "\n",
        "# 그래프 그리기\n",
        "plt.figure(figsize=(10, 6))\n",
        "# t-분포 곡선 그리기\n",
        "plt.plot(x, y, 'b-', label=f't-distribution (df={df})')\n",
        "# t-통계량 위치에 수직선 그리기\n",
        "plt.axvline(x=t_statistic_manual, color='r', linestyle='--', label=f't-statistic = {t_statistic_manual:.2f}')\n",
        "\n",
        "# 유의수준 0.05 기각역 표시\n",
        "alpha = 0.05\n",
        "t_critical = stats.t.ppf(1 - alpha / 2, df)\n",
        "\n",
        "x_fill_right = np.linspace(t_critical, 4, 100)\n",
        "y_fill_right = stats.t.pdf(x_fill_right, df)\n",
        "plt.fill_between(x_fill_right, y_fill_right, color='blue', alpha=0.5, label=f'Significance Level (a={alpha})')\n",
        "\n",
        "x_fill_left = np.linspace(-4, -t_critical, 100)\n",
        "y_fill_left = stats.t.pdf(x_fill_left, df)\n",
        "plt.fill_between(x_fill_left, y_fill_left, color='blue', alpha=0.5)\n",
        "\n",
        "plt.title('t-Distribution of Sample Data')\n",
        "plt.xlabel('t-value')\n",
        "plt.ylabel('Probability Density')\n",
        "plt.legend()\n",
        "plt.grid(True)"
      ],
      "metadata": {
        "colab": {
          "base_uri": "https://localhost:8080/",
          "height": 564
        },
        "id": "QXE6_vzmuW9I",
        "outputId": "441942b4-a322-4494-d593-1fdac5618f89"
      },
      "execution_count": null,
      "outputs": [
        {
          "output_type": "display_data",
          "data": {
            "text/plain": [
              "<Figure size 1000x600 with 1 Axes>"
            ],
            "image/png": "[encoded data removed]"
          },
          "metadata": {}
        }
      ]
    },
    {
      "cell_type": "code",
      "source": [
        "# stats.t.sf() (Survival Function)는 1 - CDF 값으로, t-분포의 꼬리 한쪽 넓이를 계산합니다.\n",
        "# 양측 검정이므로, 꼬리 넓이에 2를 곱해줍니다.\n",
        "p_value_manual = stats.t.sf(np.abs(t_statistic_manual), df=df) * 2\n",
        "\n",
        "print(\"--- p-값 계산 과정 ---\")\n",
        "print(f\"p-값 (직접 계산): {p_value_manual:.4f}\")"
      ],
      "metadata": {
        "colab": {
          "base_uri": "https://localhost:8080/"
        },
        "id": "kQybN61hRBOW",
        "outputId": "582d5d30-db96-4f2b-bc13-b482bf1df31c"
      },
      "execution_count": null,
      "outputs": [
        {
          "output_type": "stream",
          "name": "stdout",
          "text": [
            "--- p-값 계산 과정 ---\n",
            "p-값 (직접 계산): 0.0414\n"
          ]
        }
      ]
    },
    {
      "cell_type": "code",
      "source": [
        "alpha = 0.05\n",
        "print(f\"유의수준: {alpha}\")\n",
        "if p_value_manual < alpha:\n",
        "    print(\">> 결론: 귀무가설을 기각합니다. 샘플의 평균은 모평균과 유의미한 차이가 있습니다.\")\n",
        "else:\n",
        "    print(\">> 결론: 귀무가설을 기각할 수 없습니다.\")"
      ],
      "metadata": {
        "colab": {
          "base_uri": "https://localhost:8080/"
        },
        "id": "lbLf0krrRDoZ",
        "outputId": "74b41a78-c2cc-45d9-b6c0-30f36d38e725"
      },
      "execution_count": null,
      "outputs": [
        {
          "output_type": "stream",
          "name": "stdout",
          "text": [
            "유의수준: 0.05\n",
            ">> 결론: 귀무가설을 기각합니다. 샘플의 평균은 모평균과 유의미한 차이가 있습니다.\n"
          ]
        }
      ]
    },
    {
      "cell_type": "markdown",
      "source": [
        "Scipy 라이브러리 사용해서 구현하기  \n",
        "[scipy.stats.ttest_1samp](https://docs.scipy.org/doc/scipy/reference/generated/scipy.stats.ttest_1samp.html)"
      ],
      "metadata": {
        "id": "CQqxXtCWSRR6"
      }
    },
    {
      "cell_type": "code",
      "source": [
        "t_statistic, p_value = stats.ttest_1samp(a=sample_data, popmean=population_mean)\n",
        "\n",
        "print(\"--- 일표본 t-검정 결과 ---\")\n",
        "print(f\"t-통계량 (t-statistic): {t_statistic:.4f}\")\n",
        "print(f\"p-값 (p-value): {p_value:.4f}\")"
      ],
      "metadata": {
        "colab": {
          "base_uri": "https://localhost:8080/"
        },
        "id": "LLb24QMERLgR",
        "outputId": "6816ce07-b027-44c4-b2bf-61349899f8bb"
      },
      "execution_count": null,
      "outputs": [
        {
          "output_type": "stream",
          "name": "stdout",
          "text": [
            "--- 일표본 t-검정 결과 ---\n",
            "t-통계량 (t-statistic): 2.1348\n",
            "p-값 (p-value): 0.0414\n"
          ]
        }
      ]
    },
    {
      "cell_type": "markdown",
      "source": [
        "### 이표본 t검정\n",
        "\n",
        "한 교육 연구원이 새로 개발한 수학 교육 방법(B)이 기존 교육 방법(A)보다 효과적인지 알아보고자 합니다. 이를 위해 50명의 학생을 무작위로 두 그룹(각 25명)으로 나누어, 한 그룹은 A 방식으로, 다른 그룹은 B 방식으로 교육한 후 시험을 치렀습니다. 과연 두 교육 방식 간에 시험 성적의 평균 차이가 통계적으로 유의미할까요?"
      ],
      "metadata": {
        "id": "cDNjb-kKWC3p"
      }
    },
    {
      "cell_type": "code",
      "source": [
        "# 데이터 준비\n",
        "group_a = np.array([85, 87, 92, 78, 83, 89, 91, 86, 84, 88, 90, 82, 87, 89, 85])\n",
        "group_b = np.array([78, 81, 85, 74, 79, 83, 86, 80, 77, 82, 84, 76, 81, 83, 79])"
      ],
      "metadata": {
        "id": "UXh1JcGgT82d"
      },
      "execution_count": null,
      "outputs": []
    },
    {
      "cell_type": "code",
      "source": [
        "# 각 그룹의 표본 통계량 계산\n",
        "mean_a = np.mean(group_a)\n",
        "var_a = np.var(group_a, ddof=1)\n",
        "n_a = len(group_a)\n",
        "\n",
        "mean_b = np.mean(group_b)\n",
        "var_b = np.var(group_b, ddof=1)\n",
        "n_b = len(group_b)\n",
        "\n",
        "print(f\"그룹 A: Mean={mean_a:.2f}, Var={var_a:.2f}, n={n_a}\")\n",
        "print(f\"그룹 B: Mean={mean_b:.2f}, Var={var_b:.2f}, n={n_b}\")"
      ],
      "metadata": {
        "colab": {
          "base_uri": "https://localhost:8080/"
        },
        "id": "1LHuZ_1a_fdj",
        "outputId": "29023c9e-da72-4860-ec71-ee70ba5b1062"
      },
      "execution_count": null,
      "outputs": [
        {
          "output_type": "stream",
          "name": "stdout",
          "text": [
            "그룹 A: Mean=86.40, Var=13.83, n=15\n",
            "그룹 B: Mean=80.53, Var=11.70, n=15\n"
          ]
        }
      ]
    },
    {
      "cell_type": "code",
      "source": [
        "pooled_variance = ((n_a - 1) * var_a + (n_b - 1) * var_b) / (n_a + n_b - 2)\n",
        "pooled_std = np.sqrt(pooled_variance)\n",
        "\n",
        "t_statistic_manual = (mean_a - mean_b) / (pooled_std * np.sqrt(1/n_a + 1/n_b))\n",
        "\n",
        "print(f\"합동 분산 (Pooled Variance): {pooled_variance:.4f}\")\n",
        "print(f\"t-통계량 (직접 계산): {t_statistic_manual:.4f}\")"
      ],
      "metadata": {
        "colab": {
          "base_uri": "https://localhost:8080/"
        },
        "id": "frzb6V0GAIyV",
        "outputId": "cf963e35-f99f-48ac-cb2f-bb6594395555"
      },
      "execution_count": null,
      "outputs": [
        {
          "output_type": "stream",
          "name": "stdout",
          "text": [
            "합동 분산 (Pooled Variance): 12.7619\n",
            "t-통계량 (직접 계산): 4.4974\n"
          ]
        }
      ]
    },
    {
      "cell_type": "code",
      "source": [
        "degrees_of_freedom = n_a + n_b - 2\n",
        "p_value_manual = stats.t.sf(np.abs(t_statistic_manual), df=degrees_of_freedom) * 2\n",
        "\n",
        "print(f\"자유도 (df): {degrees_of_freedom}\")\n",
        "print(f\"p-값 (직접 계산): {p_value_manual:.4f}\")"
      ],
      "metadata": {
        "colab": {
          "base_uri": "https://localhost:8080/"
        },
        "id": "HJE701p3AUZx",
        "outputId": "b6f997d0-2d41-49ff-85af-9f68b264d0a2"
      },
      "execution_count": null,
      "outputs": [
        {
          "output_type": "stream",
          "name": "stdout",
          "text": [
            "자유도 (df): 28\n",
            "p-값 (직접 계산): 0.0001\n"
          ]
        }
      ]
    },
    {
      "cell_type": "markdown",
      "source": [
        "SciPy 라이브러리 사용해서 구현하기  \n",
        "[scipy.stats.ttest_ind](https://docs.scipy.org/doc/scipy/reference/generated/scipy.stats.ttest_ind.html#scipy.stats.ttest_ind)"
      ],
      "metadata": {
        "id": "vst_tO4LAjsi"
      }
    },
    {
      "cell_type": "code",
      "source": [
        "t_stat_lib, p_val_lib = stats.ttest_ind(group_a, group_b, equal_var=True)\n",
        "\n",
        "print(\"--- SciPy 라이브러리 검증 결과 (Student's t-test) ---\")\n",
        "print(f\"t-통계량 (라이브러리): {t_stat_lib:.4f}\")\n",
        "print(f\"p-값 (라이브러리): {p_val_lib:.4f}\")"
      ],
      "metadata": {
        "colab": {
          "base_uri": "https://localhost:8080/"
        },
        "id": "wFZNMaAWAY_s",
        "outputId": "49aba78e-f40c-47fa-dcb1-0b51b77fbf54"
      },
      "execution_count": null,
      "outputs": [
        {
          "output_type": "stream",
          "name": "stdout",
          "text": [
            "--- SciPy 라이브러리 검증 결과 (Student's t-test) ---\n",
            "t-통계량 (라이브러리): 4.4974\n",
            "p-값 (라이브러리): 0.0001\n"
          ]
        }
      ]
    },
    {
      "cell_type": "markdown",
      "source": [
        "### ANOVA 분산분석\n",
        "한 농업 연구원이 새로 개발한 두 종류의 비료(B, C)가 식물 성장에 미치는 영향을 알아보고자 합니다. 비료를 주지 않은 통제 집단(A)을 포함하여 세 집단의 식물 키를 측정했습니다. 과연 세 집단의 평균 키에는 통계적으로 유의미한 차이가 있을까요?"
      ],
      "metadata": {
        "id": "c_bZKLPfWFS5"
      }
    },
    {
      "cell_type": "code",
      "source": [
        "group_a = np.random.normal(20, 5, 20) # 통제 집단 (평균 20)\n",
        "group_b = np.random.normal(28, 5, 20) # 비료 B (평균 28)\n",
        "group_c = np.random.normal(25, 5, 20) # 비료 C (평균 25)\n",
        "\n",
        "groups = [group_a, group_b, group_c]"
      ],
      "metadata": {
        "id": "lw5fP7yDWH6b"
      },
      "execution_count": null,
      "outputs": []
    },
    {
      "cell_type": "code",
      "source": [
        "# 전체 데이터와 전체 평균(grand mean)\n",
        "all_data = np.concatenate(groups)\n",
        "grand_mean = np.mean(all_data)\n",
        "N = len(all_data) # 전체 샘플 수\n",
        "k = len(groups)   # 집단 수"
      ],
      "metadata": {
        "id": "2iBnih0qFFUa"
      },
      "execution_count": null,
      "outputs": []
    },
    {
      "cell_type": "code",
      "source": [
        "# --- 3. SSB (집단 간 제곱합) 계산 ---\n",
        "ssb = sum([len(g) * (np.mean(g) - grand_mean)**2 for g in groups])\n",
        "\n",
        "# --- 4. SSW (집단 내 제곱합) 계산 ---\n",
        "ssw = sum([np.var(g, ddof=0) * len(g) for g in groups])\n",
        "\n",
        "print(f\"집단 간 제곱합 (SSB): {ssb:.4f}\")\n",
        "print(f\"집단 내 제곱합 (SSW): {ssw:.4f}\")"
      ],
      "metadata": {
        "colab": {
          "base_uri": "https://localhost:8080/"
        },
        "id": "UwiUirS8FKT9",
        "outputId": "ed520076-fdfd-48c2-e4f0-57fdb9712c4c"
      },
      "execution_count": null,
      "outputs": [
        {
          "output_type": "stream",
          "name": "stdout",
          "text": [
            "집단 간 제곱합 (SSB): 649.7978\n",
            "집단 내 제곱합 (SSW): 1127.8760\n"
          ]
        }
      ]
    },
    {
      "cell_type": "code",
      "source": [
        "df_between = k - 1\n",
        "df_within = N - k\n",
        "\n",
        "msb = ssb / df_between\n",
        "msw = ssw / df_within\n",
        "\n",
        "f_stat_manual = msb / msw\n",
        "\n",
        "print(f\"집단 간 자유도 (df_between): {df_between}\")\n",
        "print(f\"집단 내 자유도 (df_within): {df_within}\")\n",
        "print(f\"F-통계량 (직접 계산): {f_stat_manual:.4f}\")"
      ],
      "metadata": {
        "colab": {
          "base_uri": "https://localhost:8080/"
        },
        "id": "-amq7qUYFSVQ",
        "outputId": "04ddaae7-6872-482f-e722-5ca27781fea9"
      },
      "execution_count": null,
      "outputs": [
        {
          "output_type": "stream",
          "name": "stdout",
          "text": [
            "집단 간 자유도 (df_between): 2\n",
            "집단 내 자유도 (df_within): 57\n",
            "F-통계량 (직접 계산): 12.9478\n"
          ]
        }
      ]
    },
    {
      "cell_type": "code",
      "source": [
        "p_value_manual = stats.f.sf(f_stat_manual, df_between, df_within)\n",
        "print(f\"p-값 (직접 계산): {p_value_manual:.4f}\")"
      ],
      "metadata": {
        "colab": {
          "base_uri": "https://localhost:8080/"
        },
        "id": "geE7AQTAFY86",
        "outputId": "5dbac35e-d690-41d0-b7ca-95c4c8b94377"
      },
      "execution_count": null,
      "outputs": [
        {
          "output_type": "stream",
          "name": "stdout",
          "text": [
            "p-값 (직접 계산): 0.0000\n"
          ]
        }
      ]
    },
    {
      "cell_type": "markdown",
      "source": [
        "Scipy 라이브러리 사용해서 구현하기  \n",
        "[scipy.stats.f_oneway](https://docs.scipy.org/doc/scipy/reference/generated/scipy.stats.f_oneway.html)"
      ],
      "metadata": {
        "id": "wcBGLcDr3gE9"
      }
    },
    {
      "cell_type": "code",
      "source": [
        "f_stat_lib, p_val_lib = stats.f_oneway(group_a, group_b, group_c)\n",
        "\n",
        "print(\"\\n--- SciPy 라이브러리 검증 결과 ---\")\n",
        "print(f\"F-통계량 (라이브러리): {f_stat_lib:.4f}\")\n",
        "print(f\"p-값 (라이브러리): {p_val_lib:.4f}\")"
      ],
      "metadata": {
        "colab": {
          "base_uri": "https://localhost:8080/"
        },
        "id": "BsDQ9wWX3jPd",
        "outputId": "e179357a-9551-4b0b-b685-b55e6747d4d8"
      },
      "execution_count": null,
      "outputs": [
        {
          "output_type": "stream",
          "name": "stdout",
          "text": [
            "\n",
            "--- SciPy 라이브러리 검증 결과 ---\n",
            "F-통계량 (라이브러리): 12.9478\n",
            "p-값 (라이브러리): 0.0000\n"
          ]
        }
      ]
    },
    {
      "cell_type": "markdown",
      "source": [
        "사후 분석하기  \n",
        "tukey' HSD는 [statsmodels](https://www.statsmodels.org/stable/index.html) 라이브러리에서 지원합니다"
      ],
      "metadata": {
        "id": "zyywdg2C3jpt"
      }
    },
    {
      "cell_type": "code",
      "source": [
        "from statsmodels.stats.multicomp import pairwise_tukeyhsd"
      ],
      "metadata": {
        "id": "7QcL_XpDFgZJ"
      },
      "execution_count": null,
      "outputs": []
    },
    {
      "cell_type": "code",
      "source": [
        "all_data = np.concatenate([group_a, group_b, group_c])\n",
        "group_labels = ['A'] * 20 + ['B'] * 20 + ['C'] * 20\n",
        "\n",
        "df = pd.DataFrame({'value': all_data, 'group': group_labels})\n",
        "\n",
        "# ---  Tukey's HSD 사후 분석 수행 ---\n",
        "# pairwise_tukeyhsd(endog=종속변수, groups=그룹변수, alpha=유의수준)\n",
        "tukey_result = pairwise_tukeyhsd(endog=df['value'], groups=df['group'], alpha=0.05)\n",
        "\n",
        "print(\"--- Tukey's HSD 사후 분석 결과 ---\")\n",
        "print(tukey_result)"
      ],
      "metadata": {
        "colab": {
          "base_uri": "https://localhost:8080/"
        },
        "id": "MNY_UhxuFhOP",
        "outputId": "183ca865-cdfb-443f-ff6c-d357139c78ef"
      },
      "execution_count": null,
      "outputs": [
        {
          "output_type": "stream",
          "name": "stdout",
          "text": [
            "--- Tukey's HSD 사후 분석 결과 ---\n",
            "Multiple Comparison of Means - Tukey HSD, FWER=0.05\n",
            "===================================================\n",
            "group1 group2 meandiff p-adj   lower  upper  reject\n",
            "---------------------------------------------------\n",
            "     A      B   7.0431    0.0  3.5102 10.576   True\n",
            "     A      C   5.6796 0.0008  2.1467 9.2125   True\n",
            "     B      C  -1.3635 0.6245 -4.8964 2.1694  False\n",
            "---------------------------------------------------\n"
          ]
        }
      ]
    },
    {
      "cell_type": "code",
      "source": [
        "tukey_result.plot_simultaneous()\n",
        "plt.show()"
      ],
      "metadata": {
        "colab": {
          "base_uri": "https://localhost:8080/",
          "height": 545
        },
        "id": "MN5qwjT8Fr_E",
        "outputId": "8f654e05-4cb9-46c9-f82e-c753662d665f"
      },
      "execution_count": null,
      "outputs": [
        {
          "output_type": "display_data",
          "data": {
            "text/plain": [
              "<Figure size 1000x600 with 1 Axes>"
            ],
            "image/png": "[encoded data removed]"
          },
          "metadata": {}
        }
      ]
    },
    {
      "cell_type": "markdown",
      "source": [
        "### 카이제곱 독립성 검정\n",
        "\n",
        "한 미디어 연구원이 학력 수준('고졸', '대졸', '대학원졸')과 주로 이용하는 뉴스 매체('TV', '신문', '온라인') 사이에 연관성이 있는지 알아보고자 합니다. 300명을 대상으로 설문조사를 하여 다음과 같은 **분할표(Contingency Table)**를 얻었습니다.\n",
        "\n",
        "|학력 수준|\tTV|\t신문|\t온라인|\n",
        "|----|---|---|---|\n",
        "|고졸|\t30|\t25|\t20|  \n",
        "|대졸|\t25|\t35|\t60|\n",
        "|대학원졸|\t10|\t20|\t75|"
      ],
      "metadata": {
        "id": "1yyI2kdiWIUY"
      }
    },
    {
      "cell_type": "code",
      "source": [
        "observed_data = pd.DataFrame({\n",
        "    'TV': [30, 25, 10],\n",
        "    'Newspaper': [25, 35, 20],\n",
        "    'Online': [20, 60, 75]\n",
        "}, index=['High School', 'College', 'Graduate'])\n",
        "\n",
        "print(\"--- 관측 빈도표 (Observed Frequencies) ---\")\n",
        "print(observed_data)"
      ],
      "metadata": {
        "colab": {
          "base_uri": "https://localhost:8080/"
        },
        "id": "A60f5m_AWJ7h",
        "outputId": "4146563a-6c6c-4d93-e422-47a48bb6186b"
      },
      "execution_count": null,
      "outputs": [
        {
          "output_type": "stream",
          "name": "stdout",
          "text": [
            "--- 관측 빈도표 (Observed Frequencies) ---\n",
            "             TV  Newspaper  Online\n",
            "High School  30         25      20\n",
            "College      25         35      60\n",
            "Graduate     10         20      75\n"
          ]
        }
      ]
    },
    {
      "cell_type": "code",
      "source": [
        "# 연산하기 쉽도록 narray 형식으로 변경\n",
        "observed = np.array(observed_data)\n",
        "\n",
        "# ---  기대 빈도(Expected Frequency) 직접 계산 ---\n",
        "row_totals = observed.sum(axis=1)\n",
        "col_totals = observed.sum(axis=0)\n",
        "grand_total = observed.sum()\n",
        "\n",
        "expected = np.outer(row_totals, col_totals) / grand_total"
      ],
      "metadata": {
        "id": "rH5gAoROU-2W"
      },
      "execution_count": null,
      "outputs": []
    },
    {
      "cell_type": "code",
      "source": [
        "print(\"--- 기대 빈도표 (직접 계산) ---\")\n",
        "print(pd.DataFrame(expected,\n",
        "                   index=['High School', 'College', 'Graduate'],\n",
        "                   columns=['TV', 'Newspaper', 'Online']).round(2))"
      ],
      "metadata": {
        "colab": {
          "base_uri": "https://localhost:8080/"
        },
        "id": "o_HJh4G7TSMl",
        "outputId": "4e980936-b031-4bd0-967d-516e0851a06c"
      },
      "execution_count": null,
      "outputs": [
        {
          "output_type": "stream",
          "name": "stdout",
          "text": [
            "--- 기대 빈도표 (직접 계산) ---\n",
            "                TV  Newspaper  Online\n",
            "High School  16.25       20.0   38.75\n",
            "College      26.00       32.0   62.00\n",
            "Graduate     22.75       28.0   54.25\n"
          ]
        }
      ]
    },
    {
      "cell_type": "code",
      "source": [
        "# (관측값 - 기대값)^2 / 기대값 을 모든 셀에 대해 더함\n",
        "chi2_stat_manual = np.sum((observed - expected)**2 / expected)\n",
        "\n",
        "print(f\"\\n카이제곱 통계량 (직접 계산): {chi2_stat_manual:.4f}\")"
      ],
      "metadata": {
        "colab": {
          "base_uri": "https://localhost:8080/"
        },
        "id": "1nnLfXtvUxds",
        "outputId": "556c6317-4ff4-403f-d839-780947b5e5d6"
      },
      "execution_count": null,
      "outputs": [
        {
          "output_type": "stream",
          "name": "stdout",
          "text": [
            "\n",
            "카이제곱 통계량 (직접 계산): 39.7094\n"
          ]
        }
      ]
    },
    {
      "cell_type": "code",
      "source": [
        "# 자유도 (d.f.) = (행의 수 - 1) * (열의 수 - 1)\n",
        "rows = observed.shape[0]\n",
        "cols = observed.shape[1]\n",
        "degrees_of_freedom = (rows - 1) * (cols - 1)"
      ],
      "metadata": {
        "id": "igI8m7vuU2WO"
      },
      "execution_count": null,
      "outputs": []
    },
    {
      "cell_type": "code",
      "source": [
        "p_value_manual = stats.chi2.sf(chi2_stat_manual, df=degrees_of_freedom)\n",
        "\n",
        "print(f\"자유도 (직접 계산): {degrees_of_freedom}\")\n",
        "print(f\"p-값 (직접 계산): {p_value_manual:.4f}\")"
      ],
      "metadata": {
        "colab": {
          "base_uri": "https://localhost:8080/"
        },
        "id": "2ubPjfBoU351",
        "outputId": "39a606a5-8161-4e82-b685-8a3532d1ce19"
      },
      "execution_count": null,
      "outputs": [
        {
          "output_type": "stream",
          "name": "stdout",
          "text": [
            "자유도 (직접 계산): 4\n",
            "p-값 (직접 계산): 0.0000\n"
          ]
        }
      ]
    },
    {
      "cell_type": "markdown",
      "source": [
        "Scipy 라이브러리 이용해서 사용해서 구현하기  \n",
        "[scipy.stats.chi2_contingency](https://docs.scipy.org/doc/scipy/reference/generated/scipy.stats.chi2_contingency.html#scipy.stats.chi2_contingency)"
      ],
      "metadata": {
        "id": "Ic1sqk505eJM"
      }
    },
    {
      "cell_type": "code",
      "source": [
        "# --- 2. SciPy를 이용한 카이제곱 검정 수행 ---\n",
        "# chi2_contingency 함수는 관측 빈도표를 입력받습니다.\n",
        "chi2_stat_lib, p_val_lib, df_lib, expected_lib = stats.chi2_contingency(observed_data)\n",
        "\n",
        "print(\"\\n--- SciPy 라이브러리 검증 결과 ---\")\n",
        "print(f\"카이제곱 통계량 (χ²): {chi2_stat_lib:.4f}\")\n",
        "print(f\"p-값 (p-value): {p_val_lib:.4f}\")\n",
        "print(f\"자유도 (d.f.): {df_lib}\")\n",
        "print(\"\\n--- 기대 빈도표 (Expected Frequencies) ---\")\n",
        "print(pd.DataFrame(expected_lib,\n",
        "                   index=observed_data.index,\n",
        "                   columns=observed_data.columns).round(2))"
      ],
      "metadata": {
        "colab": {
          "base_uri": "https://localhost:8080/"
        },
        "id": "FXyVyh2lVZB3",
        "outputId": "ef110bae-d428-4ce4-f102-a4a73ec37984"
      },
      "execution_count": null,
      "outputs": [
        {
          "output_type": "stream",
          "name": "stdout",
          "text": [
            "\n",
            "--- SciPy 라이브러리 검증 결과 ---\n",
            "카이제곱 통계량 (χ²): 39.7094\n",
            "p-값 (p-value): 0.0000\n",
            "자유도 (d.f.): 4\n",
            "\n",
            "--- 기대 빈도표 (Expected Frequencies) ---\n",
            "                TV  Newspaper  Online\n",
            "High School  16.25       20.0   38.75\n",
            "College      26.00       32.0   62.00\n",
            "Graduate     22.75       28.0   54.25\n"
          ]
        }
      ]
    },
    {
      "cell_type": "markdown",
      "source": [
        "### 윌콕슨 순위합 검정(맨-휘트니 U 검정)\n",
        "\n",
        "한 기업에서 두 가지 웹사이트 디자인(A, B)을 A/B 테스트한 후, 사용자들에게 만족도 점수(1~20점)를 받았습니다. 이 점수 데이터가 정규분포를 따른다고 확신할 수 없을 때, 두 디자인 간에 만족도 점수 분포에 차이가 있는지 맨-휘트니 U 검정으로 확인해 보겠습니다.\n",
        "\n",
        "[scipy.stats.mannwhitneyu](https://docs.scipy.org/doc/scipy/reference/generated/scipy.stats.mannwhitneyu.html#scipy.stats.mannwhitneyu)"
      ],
      "metadata": {
        "id": "W4arTExQWtwj"
      }
    },
    {
      "cell_type": "code",
      "source": [
        "group_a = [7, 8, 9, 12, 15, 16, 17]\n",
        "group_b = [1, 2, 3, 4, 5, 6, 10, 11]\n",
        "\n",
        "u_stat_lib, p_val_lib = stats.mannwhitneyu(group_a, group_b, alternative='two-sided')\n",
        "\n",
        "print(\"--- SciPy 라이브러리 검증 결과 ---\")\n",
        "print(f\"U 통계량: {u_stat_lib:.4f}\")\n",
        "print(f\"p-값 (p-value): {p_val_lib:.4f}\")\n",
        "\n",
        "alpha = 0.05\n",
        "if p_val_lib < alpha:\n",
        "    print(\"\\n결론: 귀무가설을 기각합니다. 두 디자인의 만족도 점수 분포는 유의미하게 다릅니다.\")\n",
        "else:\n",
        "    print(\"\\n결론: 귀무가설을 기각할 수 없습니다.\")"
      ],
      "metadata": {
        "colab": {
          "base_uri": "https://localhost:8080/"
        },
        "id": "JeUmZQdx-wqb",
        "outputId": "1e025618-ee43-465e-9a11-a4e2c61e9c3c"
      },
      "execution_count": null,
      "outputs": [
        {
          "output_type": "stream",
          "name": "stdout",
          "text": [
            "--- SciPy 라이브러리 검증 결과 ---\n",
            "U 통계량: 50.0000\n",
            "p-값 (p-value): 0.0093\n",
            "\n",
            "결론: 귀무가설을 기각합니다. 두 디자인의 만족도 점수 분포는 유의미하게 다릅니다.\n"
          ]
        }
      ]
    },
    {
      "cell_type": "code",
      "source": [],
      "metadata": {
        "id": "ir31_7W59dXG"
      },
      "execution_count": null,
      "outputs": []
    }
  ]
}