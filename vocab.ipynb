{
  "nbformat": 4,
  "nbformat_minor": 0,
  "metadata": {
    "colab": {
      "provenance": [],
      "include_colab_link": true
    },
    "kernelspec": {
      "name": "python3",
      "display_name": "Python 3"
    },
    "language_info": {
      "name": "python"
    }
  },
  "cells": [
    {
      "cell_type": "markdown",
      "metadata": {
        "id": "view-in-github",
        "colab_type": "text"
      },
      "source": [
        "<a href=\"https://colab.research.google.com/github/jinheeus/AIFFEL_QUEST/blob/main/vocab.ipynb\" target=\"_parent\"><img src=\"https://colab.research.google.com/assets/colab-badge.svg\" alt=\"Open In Colab\"/></a>"
      ]
    },
    {
      "cell_type": "code",
      "source": [
        "# << Avengers vocab 만들기 >>\n",
        "\n",
        "f = open('/content/Avengers.txt','r')\n",
        "\n",
        "# 1) 전처리 함수\n",
        "def preprocessing(message):\n",
        "    # 특수문자 제거\n",
        "    specials = '!\"#$%&\\'()*+,-./:;<=>?@[\\\\]^_`{|}~'\n",
        "    for m in specials:\n",
        "        message = message.replace(m, \"\")\n",
        "    # 소문자로 변환\n",
        "    message = message.lower()\n",
        "    # 공백 정리\n",
        "    message = \" \".join(message.split())\n",
        "    return message\n",
        "\n",
        "# 2) 파일 읽어서 전처리 + 단어 리스트 만들기\n",
        "words = []\n",
        "with open('/content/Avengers.txt','r', encoding='utf-8') as f:\n",
        "  for line in f:\n",
        "    clear = preprocessing(line.strip())\n",
        "    if clear:\n",
        "      words.extend(clear.split())\n",
        "\n",
        "# 3) 단어 빈도수 dic\n",
        "dic = {}\n",
        "for w in words:\n",
        "  if w in dic:\n",
        "    dic[w] += 1\n",
        "  else:\n",
        "    dic[w] = 1\n",
        "\n",
        "# 4) 빈도 내림차순 정렬 후 정수 인덱스 부여 ()\n",
        "sorted_items = sorted(dic.items(), key=lambda x : (-x[1], x[0]))\n",
        "\n",
        "vocab = {}\n",
        "idx = 0\n",
        "for w, _ in sorted_items:\n",
        "  vocab[w] = idx\n",
        "  idx += 1\n",
        "\n",
        "# 5) 텍스트 입력해서 정수로 변환\n",
        "def text_return(text, vocab):\n",
        "  clean = preprocessing(text)\n",
        "  tokens = clean.split()\n",
        "  sequence = [vocab.get(t, -1) for t in tokens]\n",
        "  return sequence\n",
        "\n",
        "user_text = input(\"문장을 입력하세요 :\")\n",
        "seq = text_return(user_text,vocab)\n",
        "print(\"입력한 문장 :\",user_text)\n",
        "print(\"정수 :\", seq)\n",
        "\n",
        "'''\n",
        "회고 : 텍스트 파일을 읽어서 리스트로 만드는 부분이 헷갈렸는데 현진님이 도와주셔서 빠르게 해결했다.\n",
        "혼자 하려고 했을 때는 굉장히 어려워 보였는데 같이 하니깐 재미있고 금방 끝나서 행복하다.\n",
        "'''\n"
      ],
      "metadata": {
        "id": "YZLMmaNRW0Eh",
        "colab": {
          "base_uri": "https://localhost:8080/"
        },
        "outputId": "1bed8047-c581-4a1f-e403-1638ee6348d9"
      },
      "execution_count": 13,
      "outputs": [
        {
          "output_type": "stream",
          "name": "stdout",
          "text": [
            "문장을 입력하세요 :i am a boy\n",
            "입력한 문장 : i am a boy\n",
            "정수 : [2, 127, 3, 539]\n"
          ]
        }
      ]
    },
    {
      "cell_type": "markdown",
      "source": [
        "##회고\n",
        "##### 1."
      ],
      "metadata": {
        "id": "fzOBLk4sXhJh"
      }
    }
  ]
}