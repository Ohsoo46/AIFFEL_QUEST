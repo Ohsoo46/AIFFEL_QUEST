{
  "nbformat": 4,
  "nbformat_minor": 0,
  "metadata": {
    "colab": {
      "provenance": [],
      "include_colab_link": true
    },
    "kernelspec": {
      "name": "python3",
      "display_name": "Python 3"
    },
    "language_info": {
      "name": "python"
    }
  },
  "cells": [
    {
      "cell_type": "markdown",
      "metadata": {
        "id": "view-in-github",
        "colab_type": "text"
      },
      "source": [
        "<a href=\"https://colab.research.google.com/github/jinheeus/AIFFEL_QUEST/blob/main/Quest1.ipynb\" target=\"_parent\"><img src=\"https://colab.research.google.com/assets/colab-badge.svg\" alt=\"Open In Colab\"/></a>"
      ]
    },
    {
      "cell_type": "code",
      "source": [],
      "metadata": {
        "id": "m9Ul4e6SEsz1"
      },
      "execution_count": 18,
      "outputs": []
    },
    {
      "cell_type": "code",
      "execution_count": 19,
      "metadata": {
        "id": "qmSNX8-U-Ew-"
      },
      "outputs": [],
      "source": [
        "import random"
      ]
    },
    {
      "cell_type": "code",
      "source": [
        "num = random.randrange(10000, 100000)"
      ],
      "metadata": {
        "id": "qBHIrNF5EwLD"
      },
      "execution_count": 20,
      "outputs": []
    },
    {
      "cell_type": "code",
      "source": [
        "print(num)"
      ],
      "metadata": {
        "id": "Qgg8n0_FE5aj",
        "outputId": "c2f167fb-a14b-466a-e010-0eae210773d3",
        "colab": {
          "base_uri": "https://localhost:8080/"
        }
      },
      "execution_count": 21,
      "outputs": [
        {
          "output_type": "stream",
          "name": "stdout",
          "text": [
            "22582\n"
          ]
        }
      ]
    },
    {
      "cell_type": "code",
      "source": [
        "# 정답(int->str 변환 후) list로 저장\n",
        "answer = [int(x) for x in str(num)]"
      ],
      "metadata": {
        "id": "WB0hHH0eKxFP"
      },
      "execution_count": 23,
      "outputs": []
    },
    {
      "cell_type": "code",
      "source": [
        " # 정답 예측\n",
        "guess = input(\"숫자 5개를 적어주세요 : \")\n",
        "guess_num = [int(x) for x in guess]\n",
        "if len(guess_num) != 5:\n",
        "   print(\"5개의 숫자를 입력하세요!\")"
      ],
      "metadata": {
        "colab": {
          "base_uri": "https://localhost:8080/"
        },
        "id": "_GPSkZdzFtH4",
        "outputId": "9de250fd-5d01-4865-9501-5097fe9a7f77"
      },
      "execution_count": 24,
      "outputs": [
        {
          "name": "stdout",
          "output_type": "stream",
          "text": [
            "숫자 5개를 적어주세요 : 12345\n"
          ]
        }
      ]
    },
    {
      "cell_type": "code",
      "source": [
        "strike = 0\n",
        "ball = 0"
      ],
      "metadata": {
        "id": "EBm-61QNFs_D"
      },
      "execution_count": 40,
      "outputs": []
    },
    {
      "cell_type": "code",
      "source": [
        "# 스트라이크, 볼 카운트\n",
        "for i in range(5) :\n",
        "  if guess_num[i] == answer[i] :\n",
        "    strike += 1\n",
        "  elif guess_num[i] in answer :\n",
        "    ball += 1\n",
        "  i +=1"
      ],
      "metadata": {
        "id": "gzE9PyPfKvJz"
      },
      "execution_count": 43,
      "outputs": []
    },
    {
      "cell_type": "code",
      "source": [
        "print(\"스트라이크 :\", strike)\n",
        "print(\"볼:\" , ball)"
      ],
      "metadata": {
        "colab": {
          "base_uri": "https://localhost:8080/"
        },
        "id": "77srtqXgOAS_",
        "outputId": "678ad8d4-ea7d-4770-d5fd-96942c257bfb"
      },
      "execution_count": 42,
      "outputs": [
        {
          "output_type": "stream",
          "name": "stdout",
          "text": [
            "스트라이크 : 1\n",
            "볼: 1\n"
          ]
        }
      ]
    },
    {
      "cell_type": "code",
      "source": [],
      "metadata": {
        "id": "xQbYyseXOcHX"
      },
      "execution_count": null,
      "outputs": []
    }
  ]
}