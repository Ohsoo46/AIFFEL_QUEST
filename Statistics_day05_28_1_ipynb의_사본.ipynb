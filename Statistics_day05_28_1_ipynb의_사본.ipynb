{
  "nbformat": 4,
  "nbformat_minor": 0,
  "metadata": {
    "colab": {
      "provenance": [],
      "authorship_tag": "ABX9TyPJwrZLdKCMwyUQbv0kFTIH",
      "include_colab_link": true
    },
    "kernelspec": {
      "name": "python3",
      "display_name": "Python 3"
    },
    "language_info": {
      "name": "python"
    }
  },
  "cells": [
    {
      "cell_type": "markdown",
      "metadata": {
        "id": "view-in-github",
        "colab_type": "text"
      },
      "source": [
        "<a href=\"https://colab.research.google.com/github/Ohsoo46/AIFFEL_QUEST/blob/main/Statistics_day05_28_1_ipynb%EC%9D%98_%EC%82%AC%EB%B3%B8.ipynb\" target=\"_parent\"><img src=\"https://colab.research.google.com/assets/colab-badge.svg\" alt=\"Open In Colab\"/></a>"
      ]
    },
    {
      "cell_type": "code",
      "execution_count": null,
      "metadata": {
        "id": "bZCgYuGHZQuB"
      },
      "outputs": [],
      "source": [
        "# 전처리\n",
        "df = df.drop(columns=['number', 'name'])\n",
        "df['legendary'] = df['legendary'].astype(int)\n",
        "\n",
        "num_cols = ['total','hp','attack','defense','sp_attack','sp_defense','speed','generation']\n",
        "cat_cols = df.select_dtypes(include = ['object', 'string'])\n",
        "\n",
        "df['type2'] = df['type2'].fillna('Unknown')\n",
        "df['type2'] = df['type2'].apply(lambda x: 0 if x == 'Unknown' else 1)\n",
        "\n",
        "\n",
        "\n",
        "\n",
        "# split\n",
        "X = df.drop('legendary', axis = 1)\n",
        "y = df['legendary'].astype(int)\n",
        "\n",
        "X_train, X_test, y_train, y_test = train_test_split(X, y, test_size=0.2, stratify=y, random_state=42)\n",
        "\n",
        "# 범주 비교\n",
        "a = set(X_train['type1'].unique())\n",
        "b = set(X_test['type1'].unique())\n",
        "print(b - a)\n",
        "\n",
        "# scaling\n",
        "Scaler = MinMaxScaler()\n",
        "X_train[num_cols] = Scaler.fit_transform(X_train[num_cols])\n",
        "X_test[num_cols] = Scaler.transform(X_test[num_cols])\n",
        "\n",
        "# ohe\n",
        "X_train = pd.get_dummies(X_train, columns = ['type1'], drop_first=True)\n",
        "X_test = pd.get_dummies(X_test, columns = ['type1'], drop_first=True)\n",
        "\n",
        "X_test = X_test.reindex(columns = X_train.columns, fill_value=0)\n",
        "\n",
        "# model\n",
        "\n",
        "models = {\n",
        "    'LR' : LogisticRegression(max_iter=1000,random_state=42),\n",
        "    'DT' : DecisionTreeClassifier(random_state=42),\n",
        "    'RF' : RandomForestClassifier(n_estimators=200, random_state=42)\n",
        "}\n",
        "\n",
        "results = []\n",
        "\n",
        "for name, model in models.items():\n",
        "    model.fit(X_train, y_train)\n",
        "    y_pred = model.predict(X_test)\n",
        "    results.append(\n",
        "        [\n",
        "            name,\n",
        "            accuracy_score(y_test, y_pred),\n",
        "            precision_score(y_test, y_pred),\n",
        "            recall_score(y_test, y_pred),\n",
        "            f1_score(y_test, y_pred)\n",
        "        ]\n",
        "    )\n",
        "\n",
        "pd.DataFrame(results, columns = ['Model', 'Acc', 'Pre', 'Recall', 'f1'])\n",
        "\n"
      ]
    }
  ]
}